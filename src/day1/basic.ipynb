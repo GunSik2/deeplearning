{
 "cells": [
  {
   "cell_type": "code",
   "execution_count": 39,
   "metadata": {
    "collapsed": false,
    "deletable": true,
    "editable": true
   },
   "outputs": [
    {
     "name": "stdout",
     "output_type": "stream",
     "text": [
      "Hello world!\n",
      "6.0\n"
     ]
    }
   ],
   "source": [
    "def print_test():\n",
    "    print(\"Hello world!\")\n",
    "    print((7 + 3 - 2) * 3 / 2 ** 2)\n",
    "    \n",
    "print_test()    "
   ]
  },
  {
   "cell_type": "code",
   "execution_count": 40,
   "metadata": {
    "collapsed": false,
    "deletable": true,
    "editable": true
   },
   "outputs": [
    {
     "name": "stdout",
     "output_type": "stream",
     "text": [
      "name? Sam\n",
      "Hello,  Sam\n"
     ]
    }
   ],
   "source": [
    "def input_test():\n",
    "    name = input(\"name? \")\n",
    "    print(\"Hello, \", name)\n",
    "\n",
    "input_test()"
   ]
  },
  {
   "cell_type": "code",
   "execution_count": 41,
   "metadata": {
    "collapsed": false,
    "deletable": true,
    "editable": true
   },
   "outputs": [
    {
     "name": "stdout",
     "output_type": "stream",
     "text": [
      "elipsed =  2.0001144409179688  sec.\n"
     ]
    }
   ],
   "source": [
    "def time_test():\n",
    "    import time\n",
    "    start = time.time()\n",
    "    time.sleep(2)\n",
    "    end = time.time()\n",
    "    print(\"elipsed = \", format(end - start), \" sec.\")\n",
    "\n",
    "time_test() "
   ]
  },
  {
   "cell_type": "code",
   "execution_count": 42,
   "metadata": {
    "collapsed": false
   },
   "outputs": [
    {
     "name": "stdout",
     "output_type": "stream",
     "text": [
      "17  +  -25  =  -8\n"
     ]
    }
   ],
   "source": [
    "def random_test():\n",
    "    import random\n",
    "    a = random.randint(1, 30)\n",
    "    b = random.randint(-30, -1)\n",
    "    print(str(a), \" + \", str(b), \" = \", str(a + b))\n",
    "\n",
    "random_test()    "
   ]
  },
  {
   "cell_type": "code",
   "execution_count": 43,
   "metadata": {
    "collapsed": false
   },
   "outputs": [
    {
     "name": "stdout",
     "output_type": "stream",
     "text": [
      "x =  0\n",
      "x =  1\n",
      "x =  2\n"
     ]
    }
   ],
   "source": [
    "def range_test():\n",
    "    for x in range(3):\n",
    "        print('x = ', x)\n",
    "\n",
    "range_test()        "
   ]
  },
  {
   "cell_type": "code",
   "execution_count": 44,
   "metadata": {
    "collapsed": false,
    "deletable": true,
    "editable": true
   },
   "outputs": [
    {
     "name": "stdout",
     "output_type": "stream",
     "text": [
      "3 is odd\n"
     ]
    }
   ],
   "source": [
    "def ifelse_test():\n",
    "    a = 3\n",
    "    if a % 2 == 0:\n",
    "        print(a, \"is even\")\n",
    "    else:\n",
    "        print(a, \"is odd\")\n",
    "\n",
    "ifelse_test()"
   ]
  },
  {
   "cell_type": "code",
   "execution_count": 45,
   "metadata": {
    "collapsed": false
   },
   "outputs": [
    {
     "name": "stdout",
     "output_type": "stream",
     "text": [
      "5 => sum: 5\n",
      "4 => sum: 9\n",
      "3 => sum: 12\n",
      "2 => sum: 14\n",
      "1 => sum: 15\n",
      "0 => sum: 15\n"
     ]
    }
   ],
   "source": [
    "def while_test():\n",
    "    a = 5\n",
    "    sum = 0\n",
    "    while a >= 0:\n",
    "        sum += a\n",
    "        print(str(a), \"=> sum:\", str(sum))\n",
    "        a -= 1\n",
    "        \n",
    "while_test()"
   ]
  },
  {
   "cell_type": "code",
   "execution_count": 46,
   "metadata": {
    "collapsed": false
   },
   "outputs": [
    {
     "name": "stdout",
     "output_type": "stream",
     "text": [
      "Hello,  World\n",
      "Hello,  David\n"
     ]
    }
   ],
   "source": [
    "def fun_test(name = \"World\"):\n",
    "    print(\"Hello, \", name)\n",
    "\n",
    "fun_test()\n",
    "fun_test(\"David\")"
   ]
  },
  {
   "cell_type": "code",
   "execution_count": 47,
   "metadata": {
    "collapsed": false
   },
   "outputs": [
    {
     "name": "stdout",
     "output_type": "stream",
     "text": [
      "<class 'set'> <class 'set'>\n",
      "True\n",
      "5\n",
      "{1, 2, 3, 4, 5, 6, 7, 8, 9}\n",
      "{9}\n",
      "{1, 2, 3, 4}\n",
      "C= {1, 2, 3, 4}\n",
      "D= {2, 4}\n",
      "False\n",
      "True\n"
     ]
    }
   ],
   "source": [
    "def set_test():\n",
    "    A = {1, 2, 3, 4, 9}\n",
    "    B = {5, 6, 7, 8, 9}\n",
    "    print(type(A), type(B))\n",
    "    print(1 in A)\n",
    "    print(len(A))\n",
    "    print(A | B)  # Set or\n",
    "    print(A & B)  # Set and\n",
    "    print(A - B)  # Set subtraction\n",
    "\n",
    "    C = {x for x in range(1, 5)}\n",
    "    D = {x for x in range(1, 5) if x % 2 == 0}\n",
    "    print(\"C=\", C)\n",
    "    print(\"D=\", D)\n",
    "    print(C < D)\n",
    "    print(C > D)  # Is subset\n",
    "    \n",
    "set_test()"
   ]
  },
  {
   "cell_type": "code",
   "execution_count": null,
   "metadata": {
    "collapsed": true
   },
   "outputs": [],
   "source": []
  }
 ],
 "metadata": {
  "kernelspec": {
   "display_name": "Python 3",
   "language": "python",
   "name": "python3"
  },
  "language_info": {
   "codemirror_mode": {
    "name": "ipython",
    "version": 3
   },
   "file_extension": ".py",
   "mimetype": "text/x-python",
   "name": "python",
   "nbconvert_exporter": "python",
   "pygments_lexer": "ipython3",
   "version": "3.6.0"
  }
 },
 "nbformat": 4,
 "nbformat_minor": 2
}
