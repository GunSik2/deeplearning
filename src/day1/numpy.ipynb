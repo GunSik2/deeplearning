{
 "cells": [
  {
   "cell_type": "code",
   "execution_count": 104,
   "metadata": {
    "collapsed": false,
    "deletable": true,
    "editable": true
   },
   "outputs": [
    {
     "name": "stdout",
     "output_type": "stream",
     "text": [
      "<class 'numpy.ndarray'> ,  (3,)\n",
      "[1 2 3]\n",
      "[5 2 3]\n",
      "5 2\n",
      "<class 'numpy.ndarray'> (2, 3)\n",
      "[[1 2 3]\n",
      " [4 5 6]]\n",
      "<class 'list'>\n",
      "[1, 2, 3]\n",
      "[5, 2, 3]\n",
      "5 2\n",
      "<class 'list'>\n",
      "[[1, 2, 3], [4, 5, 6]]\n",
      "===np.array([1], [2]])\n",
      " [[1]\n",
      " [2]]\n",
      "(2, 1) int32\n",
      "===np.array([1, 2])\n",
      " [1 2]\n",
      "(2,) int32\n"
     ]
    }
   ],
   "source": [
    "import numpy as np\n",
    "\n",
    "def np_array_test():\n",
    "    a = np.array([1, 2, 3])\n",
    "    print(type(a), \", \", a.shape)\n",
    "    print(a)\n",
    "    a[0] = 5\n",
    "    print(a)\n",
    "    print(a[0], a[1])\n",
    "    \n",
    "    b = np.array([[1, 2, 3], [4, 5, 6]])\n",
    "    print(type(b), b.shape)\n",
    "    print(b)\n",
    "        \n",
    "def list_test():\n",
    "    a = [1, 2, 3]\n",
    "    print(type(a))\n",
    "    print(a)\n",
    "    a[0] = 5\n",
    "    print(a)\n",
    "    print(a[0], a[1])\n",
    "    \n",
    "    b = [[1, 2, 3], [4, 5, 6]]\n",
    "    print(type(b))\n",
    "    print(b)\n",
    "\n",
    "def np_array_test2():\n",
    "    x = np.array([[1], [2]])\n",
    "    print(\"===np.array([1], [2]])\\n\", x)\n",
    "    print(x.shape, x.dtype)\n",
    "    \n",
    "    x = np.array([1, 2])\n",
    "    print(\"===np.array([1, 2])\\n\", x)\n",
    "    print(x.shape, x.dtype)\n",
    "    \n",
    "np_array_test()\n",
    "list_test()\n",
    "np_array_test2()"
   ]
  },
  {
   "cell_type": "code",
   "execution_count": 47,
   "metadata": {
    "collapsed": false,
    "deletable": true,
    "editable": true
   },
   "outputs": [
    {
     "name": "stdout",
     "output_type": "stream",
     "text": [
      "np.zeros((2, 2))\n",
      " [[ 0.  0.]\n",
      " [ 0.  0.]]\n",
      "np.ones((1, 2))\n",
      " [[ 1.  1.]]\n",
      "np.full((2, 2), 3)\n",
      " [[3 3]\n",
      " [3 3]]\n",
      "np.eye(2)\n",
      " [[ 1.  0.]\n",
      " [ 0.  1.]]\n",
      "np.random.random((2, 2))\n",
      " [[ 0.65485321  0.48460722]\n",
      " [ 0.5068558   0.15980954]]\n"
     ]
    }
   ],
   "source": [
    "def np_array_fun_test():\n",
    "    a = np.zeros((2, 2))\n",
    "    print(\"np.zeros((2, 2))\\n\", a)\n",
    "\n",
    "    a = np.ones((1, 2))\n",
    "    print(\"np.ones((1, 2))\\n\", a)\n",
    "\n",
    "    a = np.full((2, 2), 3)\n",
    "    print(\"np.full((2, 2), 3)\\n\", a)  \n",
    "    \n",
    "    a = np.eye(2)\n",
    "    print(\"np.eye(2)\\n\", a)  \n",
    "    \n",
    "    a = np.random.random((2, 2))\n",
    "    print(\"np.random.random((2, 2))\\n\", a)     \n",
    "    \n",
    "np_array_fun_test()  "
   ]
  },
  {
   "cell_type": "code",
   "execution_count": 50,
   "metadata": {
    "collapsed": false,
    "deletable": true,
    "editable": true
   },
   "outputs": [
    {
     "name": "stdout",
     "output_type": "stream",
     "text": [
      "a=\n",
      " [[ 1  2  3  4]\n",
      " [ 5  6  7  8]\n",
      " [ 9 10 11 12]]\n",
      "b=\n",
      " [[1 2]\n",
      " [5 6]]\n",
      "b=\n",
      " [[55  2]\n",
      " [ 5  6]]\n",
      "a=\n",
      " [[55  2  3  4]\n",
      " [ 5  6  7  8]\n",
      " [ 9 10 11 12]]\n"
     ]
    }
   ],
   "source": [
    "def np_array_indexing_test():\n",
    "    a = np.array([[1, 2, 3, 4], [5, 6, 7, 8], [9, 10, 11, 12]])\n",
    "    print(\"a=\\n\", a)\n",
    "    b = a[:2, :2]\n",
    "    print(\"b=\\n\", b)\n",
    "    b[0, 0] = 55\n",
    "    print(\"b=\\n\", b)\n",
    "    print(\"a=\\n\", a)\n",
    "    \n",
    "np_array_indexing_test()"
   ]
  },
  {
   "cell_type": "code",
   "execution_count": 56,
   "metadata": {
    "collapsed": false,
    "deletable": true,
    "editable": true
   },
   "outputs": [
    {
     "name": "stdout",
     "output_type": "stream",
     "text": [
      "=== row slice\n",
      "[5 6 7 8] (4,)\n",
      "[[5 6 7 8]] (1, 4)\n",
      "=== col slice\n",
      "[ 2  6 10] (3,)\n",
      "[[ 2]\n",
      " [ 6]\n",
      " [10]] (3, 1)\n"
     ]
    }
   ],
   "source": [
    "def np_array_slice_indexing_test():\n",
    "    a = np.array([[1, 2, 3, 4], [5, 6, 7, 8], [9, 10, 11, 12]])\n",
    "    \n",
    "    row1 = a[1, :]      # Rank1\n",
    "    row2 = a[1:2, :]    # Rank2\n",
    "    print(\"=== row slice\")\n",
    "    print(row1, row1.shape)\n",
    "    print(row2, row2.shape)\n",
    "    \n",
    "    col1 = a[:, 1]\n",
    "    col2 = a[:, 1:2]\n",
    "    print(\"=== col slice\")\n",
    "    print(col1, col1.shape)  # Rank1\n",
    "    print(col2, col2.shape)  # Rank2\n",
    "    \n",
    "np_array_slice_indexing_test()"
   ]
  },
  {
   "cell_type": "code",
   "execution_count": 69,
   "metadata": {
    "collapsed": false,
    "deletable": true,
    "editable": true
   },
   "outputs": [
    {
     "name": "stdout",
     "output_type": "stream",
     "text": [
      "[[ 1  2  3  4]\n",
      " [ 5  6  7  8]\n",
      " [ 9 10 11 12]]\n",
      "===indexing\n",
      " [ 1  6 11]\n",
      "===indexing\n",
      " [[ 1  6 11]]\n",
      "===indexing\n",
      " <class 'list'> [1, 6, 11]\n"
     ]
    }
   ],
   "source": [
    "def np_array_interger_indexing_test():\n",
    "    a = np.array([[1, 2, 3, 4], [5, 6, 7, 8], [9, 10, 11, 12]])\n",
    "    \n",
    "    print(a)\n",
    "    print(\"===indexing\\n\", a[[0, 1, 2], [0, 1, 2]])\n",
    "    index = [a[0, 0], a[1, 1], a[2, 2]]\n",
    "    print(\"===indexing\\n\", np.array([index]))\n",
    "    print(\"===indexing\\n\", type(index), index)\n",
    "\n",
    "np_array_interger_indexing_test()"
   ]
  },
  {
   "cell_type": "code",
   "execution_count": 91,
   "metadata": {
    "collapsed": false,
    "deletable": true,
    "editable": true
   },
   "outputs": [
    {
     "name": "stdout",
     "output_type": "stream",
     "text": [
      "[[ 1  2  3  4]\n",
      " [ 5  6  7  8]\n",
      " [ 9 10 11 12]]\n",
      "===bool_idx\n",
      " [[False False False False]\n",
      " [False  True  True  True]\n",
      " [ True  True  True  True]]\n",
      "===bool_idx\n",
      " [ 6  7  8  9 10 11 12]\n",
      "===bool_idx\n",
      " [ 6  7  8  9 10 11 12]\n"
     ]
    }
   ],
   "source": [
    "def np_array_boolean_indexing():\n",
    "    a = np.array([[1, 2, 3, 4], [5, 6, 7, 8], [9, 10, 11, 12]])\n",
    "    \n",
    "    print(a)\n",
    "    \n",
    "    bool_idx = (a > 5)\n",
    "    print(\"===bool_idx\\n\", bool_idx)\n",
    "\n",
    "    print(\"===bool_idx\\n\", a[bool_idx])\n",
    "    \n",
    "    print(\"===bool_idx\\n\", a[a > 5])\n",
    "    \n",
    "np_array_boolean_indexing()    "
   ]
  },
  {
   "cell_type": "code",
   "execution_count": 107,
   "metadata": {
    "collapsed": false,
    "deletable": true,
    "editable": true
   },
   "outputs": [
    {
     "name": "stdout",
     "output_type": "stream",
     "text": [
      "int32\n",
      "float64\n",
      "int64\n"
     ]
    }
   ],
   "source": [
    "def np_array_datatype_test():\n",
    "    x = np.array([1, 2])\n",
    "    print(x.dtype)\n",
    "    \n",
    "    x = np.array([1., 2.])\n",
    "    print(x.dtype)\n",
    "   \n",
    "    x = np.array([1, 2], dtype=np.int64)\n",
    "    print(x.dtype)\n",
    "    \n",
    "np_array_datatype_test()"
   ]
  },
  {
   "cell_type": "code",
   "execution_count": 117,
   "metadata": {
    "collapsed": false
   },
   "outputs": [
    {
     "name": "stdout",
     "output_type": "stream",
     "text": [
      "[[ 2.  4.]\n",
      " [ 6.  8.]]\n",
      "[[ 2.  4.]\n",
      " [ 6.  8.]]\n",
      "[[ 0.  0.]\n",
      " [ 0.  0.]]\n",
      "[[ 0.  0.]\n",
      " [ 0.  0.]]\n",
      "[[  1.   4.]\n",
      " [  9.  16.]]\n",
      "[[  1.   4.]\n",
      " [  9.  16.]]\n",
      "[[ 1.  1.]\n",
      " [ 1.  1.]]\n",
      "[[ 1.  1.]\n",
      " [ 1.  1.]]\n",
      "[[ 1.          1.41421356]\n",
      " [ 1.73205081  2.        ]]\n"
     ]
    }
   ],
   "source": [
    "def np_array_math_test():\n",
    "    x = np.array([[1, 2], [3, 4]], dtype=np.float64)\n",
    "    y = np.array([[1, 2], [3, 4]], dtype=np.float64)\n",
    "    \n",
    "    print(x + y)\n",
    "    print(np.add(x, y))\n",
    "    \n",
    "    print(x - y)\n",
    "    print(np.subtract(x, y))\n",
    "    \n",
    "    print(x * y)\n",
    "    print(np.multiply(x, y))\n",
    "    \n",
    "    print(x / y)\n",
    "    print(np.divide(x, y))\n",
    "    \n",
    "    print(np.sqrt(x))\n",
    "    \n",
    "np_array_math_test()"
   ]
  },
  {
   "cell_type": "code",
   "execution_count": 135,
   "metadata": {
    "collapsed": false
   },
   "outputs": [
    {
     "name": "stdout",
     "output_type": "stream",
     "text": [
      "[[ 7 10]\n",
      " [15 22]]\n",
      "[[ 7 10]\n",
      " [15 22]]\n",
      "v =  [1 2] : shape =  (2,)\n",
      "w =  [1 2] : shape =  (2,)\n",
      "v.dot(w) =  5 : shape =  ()\n",
      "np.dot(v, w) =  5 : shape =  ()\n",
      "[ 5 11]\n",
      "[ 5 11]\n",
      "(2, 2) (2,) (2,)\n",
      "[ 7 10]\n",
      "[ 7 10]\n",
      "(2,) (2, 2) (2,)\n"
     ]
    }
   ],
   "source": [
    "def np_array_dot_test():\n",
    "    x = np.array([[1, 2], [3, 4]])\n",
    "    y = np.array([[1, 2], [3, 4]])\n",
    "    print(x.dot(y))       # rank 2 array\n",
    "    print(np.dot(x, y))\n",
    "    \n",
    "    \n",
    "    v = np.array([1, 2])\n",
    "    w = np.array([1, 2])\n",
    "    print(\"v = \", v, \": shape = \", v.shape)\n",
    "    print(\"w = \", w, \": shape = \", w.shape)\n",
    "    print(\"v.dot(w) = \", v.dot(w), \": shape = \", (v.dot(w)).shape)       # Inner product of vectors\n",
    "    print(\"np.dot(v, w) = \", np.dot(v, w), \": shape = \", (np.dot(v, w)).shape)\n",
    "    \n",
    "    print(x.dot(v))       # rank 1 array\n",
    "    print(np.dot(x, v))\n",
    "    print(x.shape, v.shape, (np.dot(x, v)).shape)\n",
    "   \n",
    "    print(v.dot(x))       # rank 1 array\n",
    "    print(np.dot(v, x))\n",
    "    print(v.shape, x.shape, (np.dot(v, x)).shape)\n",
    "    \n",
    "np_array_dot_test()\n"
   ]
  },
  {
   "cell_type": "code",
   "execution_count": null,
   "metadata": {
    "collapsed": true
   },
   "outputs": [],
   "source": [
    "\n",
    "def np_array_broadcasting_test():\n",
    "    print(\"hello\")\n",
    "np_array_broadcasting_test()    "
   ]
  }
 ],
 "metadata": {
  "kernelspec": {
   "display_name": "Python 3",
   "language": "python",
   "name": "python3"
  },
  "language_info": {
   "codemirror_mode": {
    "name": "ipython",
    "version": 3
   },
   "file_extension": ".py",
   "mimetype": "text/x-python",
   "name": "python",
   "nbconvert_exporter": "python",
   "pygments_lexer": "ipython3",
   "version": "3.6.0"
  }
 },
 "nbformat": 4,
 "nbformat_minor": 2
}
